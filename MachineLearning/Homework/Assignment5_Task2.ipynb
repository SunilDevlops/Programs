{
 "cells": [
  {
   "cell_type": "markdown",
   "metadata": {},
   "source": [
    "# Task 2"
   ]
  },
  {
   "cell_type": "code",
   "execution_count": 976,
   "metadata": {},
   "outputs": [],
   "source": [
    "import pandas as pd\n",
    "import numpy as np\n",
    "import matplotlib.pyplot as plt\n",
    "import plotly.express as px \n",
    "from sklearn.datasets import load_iris"
   ]
  },
  {
   "cell_type": "code",
   "execution_count": 977,
   "metadata": {},
   "outputs": [],
   "source": [
    "%matplotlib inline"
   ]
  },
  {
   "cell_type": "markdown",
   "metadata": {},
   "source": [
    "### Initialization"
   ]
  },
  {
   "cell_type": "code",
   "execution_count": 978,
   "metadata": {
    "scrolled": true
   },
   "outputs": [
    {
     "data": {
      "text/html": [
       "<div>\n",
       "<style scoped>\n",
       "    .dataframe tbody tr th:only-of-type {\n",
       "        vertical-align: middle;\n",
       "    }\n",
       "\n",
       "    .dataframe tbody tr th {\n",
       "        vertical-align: top;\n",
       "    }\n",
       "\n",
       "    .dataframe thead th {\n",
       "        text-align: right;\n",
       "    }\n",
       "</style>\n",
       "<table border=\"1\" class=\"dataframe\">\n",
       "  <thead>\n",
       "    <tr style=\"text-align: right;\">\n",
       "      <th></th>\n",
       "      <th>sepal length (cm)</th>\n",
       "      <th>sepal width (cm)</th>\n",
       "      <th>petal length (cm)</th>\n",
       "      <th>petal width (cm)</th>\n",
       "    </tr>\n",
       "  </thead>\n",
       "  <tbody>\n",
       "    <tr>\n",
       "      <th>0</th>\n",
       "      <td>5.1</td>\n",
       "      <td>3.5</td>\n",
       "      <td>1.4</td>\n",
       "      <td>0.2</td>\n",
       "    </tr>\n",
       "    <tr>\n",
       "      <th>1</th>\n",
       "      <td>4.9</td>\n",
       "      <td>3.0</td>\n",
       "      <td>1.4</td>\n",
       "      <td>0.2</td>\n",
       "    </tr>\n",
       "    <tr>\n",
       "      <th>2</th>\n",
       "      <td>4.7</td>\n",
       "      <td>3.2</td>\n",
       "      <td>1.3</td>\n",
       "      <td>0.2</td>\n",
       "    </tr>\n",
       "    <tr>\n",
       "      <th>3</th>\n",
       "      <td>4.6</td>\n",
       "      <td>3.1</td>\n",
       "      <td>1.5</td>\n",
       "      <td>0.2</td>\n",
       "    </tr>\n",
       "    <tr>\n",
       "      <th>4</th>\n",
       "      <td>5.0</td>\n",
       "      <td>3.6</td>\n",
       "      <td>1.4</td>\n",
       "      <td>0.2</td>\n",
       "    </tr>\n",
       "  </tbody>\n",
       "</table>\n",
       "</div>"
      ],
      "text/plain": [
       "   sepal length (cm)  sepal width (cm)  petal length (cm)  petal width (cm)\n",
       "0                5.1               3.5                1.4               0.2\n",
       "1                4.9               3.0                1.4               0.2\n",
       "2                4.7               3.2                1.3               0.2\n",
       "3                4.6               3.1                1.5               0.2\n",
       "4                5.0               3.6                1.4               0.2"
      ]
     },
     "execution_count": 978,
     "metadata": {},
     "output_type": "execute_result"
    }
   ],
   "source": [
    "iris = load_iris()\n",
    "\n",
    "df = pd.DataFrame(iris.data,columns=iris.feature_names)\n",
    "df.head()"
   ]
  },
  {
   "cell_type": "code",
   "execution_count": 979,
   "metadata": {},
   "outputs": [
    {
     "data": {
      "text/html": [
       "<div>\n",
       "<style scoped>\n",
       "    .dataframe tbody tr th:only-of-type {\n",
       "        vertical-align: middle;\n",
       "    }\n",
       "\n",
       "    .dataframe tbody tr th {\n",
       "        vertical-align: top;\n",
       "    }\n",
       "\n",
       "    .dataframe thead th {\n",
       "        text-align: right;\n",
       "    }\n",
       "</style>\n",
       "<table border=\"1\" class=\"dataframe\">\n",
       "  <thead>\n",
       "    <tr style=\"text-align: right;\">\n",
       "      <th></th>\n",
       "      <th>sepal length (cm)</th>\n",
       "      <th>sepal width (cm)</th>\n",
       "      <th>petal length (cm)</th>\n",
       "      <th>petal width (cm)</th>\n",
       "      <th>flower</th>\n",
       "    </tr>\n",
       "  </thead>\n",
       "  <tbody>\n",
       "    <tr>\n",
       "      <th>0</th>\n",
       "      <td>5.1</td>\n",
       "      <td>3.5</td>\n",
       "      <td>1.4</td>\n",
       "      <td>0.2</td>\n",
       "      <td>0</td>\n",
       "    </tr>\n",
       "    <tr>\n",
       "      <th>1</th>\n",
       "      <td>4.9</td>\n",
       "      <td>3.0</td>\n",
       "      <td>1.4</td>\n",
       "      <td>0.2</td>\n",
       "      <td>0</td>\n",
       "    </tr>\n",
       "    <tr>\n",
       "      <th>2</th>\n",
       "      <td>4.7</td>\n",
       "      <td>3.2</td>\n",
       "      <td>1.3</td>\n",
       "      <td>0.2</td>\n",
       "      <td>0</td>\n",
       "    </tr>\n",
       "    <tr>\n",
       "      <th>3</th>\n",
       "      <td>4.6</td>\n",
       "      <td>3.1</td>\n",
       "      <td>1.5</td>\n",
       "      <td>0.2</td>\n",
       "      <td>0</td>\n",
       "    </tr>\n",
       "    <tr>\n",
       "      <th>4</th>\n",
       "      <td>5.0</td>\n",
       "      <td>3.6</td>\n",
       "      <td>1.4</td>\n",
       "      <td>0.2</td>\n",
       "      <td>0</td>\n",
       "    </tr>\n",
       "    <tr>\n",
       "      <th>...</th>\n",
       "      <td>...</td>\n",
       "      <td>...</td>\n",
       "      <td>...</td>\n",
       "      <td>...</td>\n",
       "      <td>...</td>\n",
       "    </tr>\n",
       "    <tr>\n",
       "      <th>95</th>\n",
       "      <td>5.7</td>\n",
       "      <td>3.0</td>\n",
       "      <td>4.2</td>\n",
       "      <td>1.2</td>\n",
       "      <td>1</td>\n",
       "    </tr>\n",
       "    <tr>\n",
       "      <th>96</th>\n",
       "      <td>5.7</td>\n",
       "      <td>2.9</td>\n",
       "      <td>4.2</td>\n",
       "      <td>1.3</td>\n",
       "      <td>1</td>\n",
       "    </tr>\n",
       "    <tr>\n",
       "      <th>97</th>\n",
       "      <td>6.2</td>\n",
       "      <td>2.9</td>\n",
       "      <td>4.3</td>\n",
       "      <td>1.3</td>\n",
       "      <td>1</td>\n",
       "    </tr>\n",
       "    <tr>\n",
       "      <th>98</th>\n",
       "      <td>5.1</td>\n",
       "      <td>2.5</td>\n",
       "      <td>3.0</td>\n",
       "      <td>1.1</td>\n",
       "      <td>1</td>\n",
       "    </tr>\n",
       "    <tr>\n",
       "      <th>99</th>\n",
       "      <td>5.7</td>\n",
       "      <td>2.8</td>\n",
       "      <td>4.1</td>\n",
       "      <td>1.3</td>\n",
       "      <td>1</td>\n",
       "    </tr>\n",
       "  </tbody>\n",
       "</table>\n",
       "<p>100 rows × 5 columns</p>\n",
       "</div>"
      ],
      "text/plain": [
       "    sepal length (cm)  sepal width (cm)  petal length (cm)  petal width (cm)  \\\n",
       "0                 5.1               3.5                1.4               0.2   \n",
       "1                 4.9               3.0                1.4               0.2   \n",
       "2                 4.7               3.2                1.3               0.2   \n",
       "3                 4.6               3.1                1.5               0.2   \n",
       "4                 5.0               3.6                1.4               0.2   \n",
       "..                ...               ...                ...               ...   \n",
       "95                5.7               3.0                4.2               1.2   \n",
       "96                5.7               2.9                4.2               1.3   \n",
       "97                6.2               2.9                4.3               1.3   \n",
       "98                5.1               2.5                3.0               1.1   \n",
       "99                5.7               2.8                4.1               1.3   \n",
       "\n",
       "    flower  \n",
       "0        0  \n",
       "1        0  \n",
       "2        0  \n",
       "3        0  \n",
       "4        0  \n",
       "..     ...  \n",
       "95       1  \n",
       "96       1  \n",
       "97       1  \n",
       "98       1  \n",
       "99       1  \n",
       "\n",
       "[100 rows x 5 columns]"
      ]
     },
     "execution_count": 979,
     "metadata": {},
     "output_type": "execute_result"
    }
   ],
   "source": [
    "df['flower'] = iris.target\n",
    "df.head(100)"
   ]
  },
  {
   "cell_type": "code",
   "execution_count": 980,
   "metadata": {},
   "outputs": [],
   "source": [
    "df.drop(['sepal length (cm)', 'sepal width (cm)', 'flower'],axis='columns',inplace=True)"
   ]
  },
  {
   "cell_type": "code",
   "execution_count": 981,
   "metadata": {},
   "outputs": [
    {
     "data": {
      "text/html": [
       "<div>\n",
       "<style scoped>\n",
       "    .dataframe tbody tr th:only-of-type {\n",
       "        vertical-align: middle;\n",
       "    }\n",
       "\n",
       "    .dataframe tbody tr th {\n",
       "        vertical-align: top;\n",
       "    }\n",
       "\n",
       "    .dataframe thead th {\n",
       "        text-align: right;\n",
       "    }\n",
       "</style>\n",
       "<table border=\"1\" class=\"dataframe\">\n",
       "  <thead>\n",
       "    <tr style=\"text-align: right;\">\n",
       "      <th></th>\n",
       "      <th>petal length (cm)</th>\n",
       "      <th>petal width (cm)</th>\n",
       "    </tr>\n",
       "  </thead>\n",
       "  <tbody>\n",
       "    <tr>\n",
       "      <th>0</th>\n",
       "      <td>1.4</td>\n",
       "      <td>0.2</td>\n",
       "    </tr>\n",
       "    <tr>\n",
       "      <th>1</th>\n",
       "      <td>1.4</td>\n",
       "      <td>0.2</td>\n",
       "    </tr>\n",
       "    <tr>\n",
       "      <th>2</th>\n",
       "      <td>1.3</td>\n",
       "      <td>0.2</td>\n",
       "    </tr>\n",
       "    <tr>\n",
       "      <th>3</th>\n",
       "      <td>1.5</td>\n",
       "      <td>0.2</td>\n",
       "    </tr>\n",
       "    <tr>\n",
       "      <th>4</th>\n",
       "      <td>1.4</td>\n",
       "      <td>0.2</td>\n",
       "    </tr>\n",
       "    <tr>\n",
       "      <th>5</th>\n",
       "      <td>1.7</td>\n",
       "      <td>0.4</td>\n",
       "    </tr>\n",
       "    <tr>\n",
       "      <th>6</th>\n",
       "      <td>1.4</td>\n",
       "      <td>0.3</td>\n",
       "    </tr>\n",
       "    <tr>\n",
       "      <th>7</th>\n",
       "      <td>1.5</td>\n",
       "      <td>0.2</td>\n",
       "    </tr>\n",
       "    <tr>\n",
       "      <th>8</th>\n",
       "      <td>1.4</td>\n",
       "      <td>0.2</td>\n",
       "    </tr>\n",
       "    <tr>\n",
       "      <th>9</th>\n",
       "      <td>1.5</td>\n",
       "      <td>0.1</td>\n",
       "    </tr>\n",
       "    <tr>\n",
       "      <th>10</th>\n",
       "      <td>1.5</td>\n",
       "      <td>0.2</td>\n",
       "    </tr>\n",
       "    <tr>\n",
       "      <th>11</th>\n",
       "      <td>1.6</td>\n",
       "      <td>0.2</td>\n",
       "    </tr>\n",
       "    <tr>\n",
       "      <th>12</th>\n",
       "      <td>1.4</td>\n",
       "      <td>0.1</td>\n",
       "    </tr>\n",
       "    <tr>\n",
       "      <th>13</th>\n",
       "      <td>1.1</td>\n",
       "      <td>0.1</td>\n",
       "    </tr>\n",
       "    <tr>\n",
       "      <th>14</th>\n",
       "      <td>1.2</td>\n",
       "      <td>0.2</td>\n",
       "    </tr>\n",
       "    <tr>\n",
       "      <th>15</th>\n",
       "      <td>1.5</td>\n",
       "      <td>0.4</td>\n",
       "    </tr>\n",
       "    <tr>\n",
       "      <th>16</th>\n",
       "      <td>1.3</td>\n",
       "      <td>0.4</td>\n",
       "    </tr>\n",
       "    <tr>\n",
       "      <th>17</th>\n",
       "      <td>1.4</td>\n",
       "      <td>0.3</td>\n",
       "    </tr>\n",
       "    <tr>\n",
       "      <th>18</th>\n",
       "      <td>1.7</td>\n",
       "      <td>0.3</td>\n",
       "    </tr>\n",
       "    <tr>\n",
       "      <th>19</th>\n",
       "      <td>1.5</td>\n",
       "      <td>0.3</td>\n",
       "    </tr>\n",
       "  </tbody>\n",
       "</table>\n",
       "</div>"
      ],
      "text/plain": [
       "    petal length (cm)  petal width (cm)\n",
       "0                 1.4               0.2\n",
       "1                 1.4               0.2\n",
       "2                 1.3               0.2\n",
       "3                 1.5               0.2\n",
       "4                 1.4               0.2\n",
       "5                 1.7               0.4\n",
       "6                 1.4               0.3\n",
       "7                 1.5               0.2\n",
       "8                 1.4               0.2\n",
       "9                 1.5               0.1\n",
       "10                1.5               0.2\n",
       "11                1.6               0.2\n",
       "12                1.4               0.1\n",
       "13                1.1               0.1\n",
       "14                1.2               0.2\n",
       "15                1.5               0.4\n",
       "16                1.3               0.4\n",
       "17                1.4               0.3\n",
       "18                1.7               0.3\n",
       "19                1.5               0.3"
      ]
     },
     "execution_count": 981,
     "metadata": {},
     "output_type": "execute_result"
    }
   ],
   "source": [
    "df.head(20)"
   ]
  },
  {
   "cell_type": "code",
   "execution_count": 982,
   "metadata": {},
   "outputs": [],
   "source": [
    "np.random.seed(200)"
   ]
  },
  {
   "cell_type": "code",
   "execution_count": 983,
   "metadata": {},
   "outputs": [],
   "source": [
    "k = 3"
   ]
  },
  {
   "cell_type": "code",
   "execution_count": 984,
   "metadata": {},
   "outputs": [
    {
     "data": {
      "image/png": "[encoded data removed]",
      "text/plain": [
       "<Figure size 432x288 with 1 Axes>"
      ]
     },
     "metadata": {
      "needs_background": "light"
     },
     "output_type": "display_data"
    }
   ],
   "source": [
    "plt.scatter(df['petal length (cm)'], df['petal width (cm)'], s=150, color = 'k')\n",
    "\n",
    "#Initialize with two centroids\n",
    "centroids = {1: [1.7, 0.4], 2: [5.1, 1.6], 3: [6.0, 1.8]}\n",
    "#centroids = {1: [1.7, 0.4]}\n",
    "#centroids = {1: [1.7, 0.4], 2: [5.1, 1.6]}\n",
    "colmap = {1:'r', 2:'g', 3:'b'}\n",
    "\n",
    "for i in centroids.keys():\n",
    "    plt.scatter(*centroids[i], s=150, color=colmap[i])\n",
    "\n",
    "plt.show()"
   ]
  },
  {
   "cell_type": "markdown",
   "metadata": {},
   "source": [
    "### Assignment Stage"
   ]
  },
  {
   "cell_type": "code",
   "execution_count": 985,
   "metadata": {},
   "outputs": [
    {
     "data": {
      "text/html": [
       "<div>\n",
       "<style scoped>\n",
       "    .dataframe tbody tr th:only-of-type {\n",
       "        vertical-align: middle;\n",
       "    }\n",
       "\n",
       "    .dataframe tbody tr th {\n",
       "        vertical-align: top;\n",
       "    }\n",
       "\n",
       "    .dataframe thead th {\n",
       "        text-align: right;\n",
       "    }\n",
       "</style>\n",
       "<table border=\"1\" class=\"dataframe\">\n",
       "  <thead>\n",
       "    <tr style=\"text-align: right;\">\n",
       "      <th></th>\n",
       "      <th>petal length (cm)</th>\n",
       "      <th>petal width (cm)</th>\n",
       "      <th>distance_from_1</th>\n",
       "      <th>distance_from_2</th>\n",
       "      <th>distance_from_3</th>\n",
       "      <th>closest</th>\n",
       "      <th>color</th>\n",
       "    </tr>\n",
       "  </thead>\n",
       "  <tbody>\n",
       "    <tr>\n",
       "      <th>0</th>\n",
       "      <td>1.4</td>\n",
       "      <td>0.2</td>\n",
       "      <td>0.360555</td>\n",
       "      <td>3.956008</td>\n",
       "      <td>4.870318</td>\n",
       "      <td>1</td>\n",
       "      <td>r</td>\n",
       "    </tr>\n",
       "    <tr>\n",
       "      <th>1</th>\n",
       "      <td>1.4</td>\n",
       "      <td>0.2</td>\n",
       "      <td>0.360555</td>\n",
       "      <td>3.956008</td>\n",
       "      <td>4.870318</td>\n",
       "      <td>1</td>\n",
       "      <td>r</td>\n",
       "    </tr>\n",
       "    <tr>\n",
       "      <th>2</th>\n",
       "      <td>1.3</td>\n",
       "      <td>0.2</td>\n",
       "      <td>0.447214</td>\n",
       "      <td>4.049691</td>\n",
       "      <td>4.964877</td>\n",
       "      <td>1</td>\n",
       "      <td>r</td>\n",
       "    </tr>\n",
       "    <tr>\n",
       "      <th>3</th>\n",
       "      <td>1.5</td>\n",
       "      <td>0.2</td>\n",
       "      <td>0.282843</td>\n",
       "      <td>3.862642</td>\n",
       "      <td>4.775982</td>\n",
       "      <td>1</td>\n",
       "      <td>r</td>\n",
       "    </tr>\n",
       "    <tr>\n",
       "      <th>4</th>\n",
       "      <td>1.4</td>\n",
       "      <td>0.2</td>\n",
       "      <td>0.360555</td>\n",
       "      <td>3.956008</td>\n",
       "      <td>4.870318</td>\n",
       "      <td>1</td>\n",
       "      <td>r</td>\n",
       "    </tr>\n",
       "  </tbody>\n",
       "</table>\n",
       "</div>"
      ],
      "text/plain": [
       "   petal length (cm)  petal width (cm)  distance_from_1  distance_from_2  \\\n",
       "0                1.4               0.2         0.360555         3.956008   \n",
       "1                1.4               0.2         0.360555         3.956008   \n",
       "2                1.3               0.2         0.447214         4.049691   \n",
       "3                1.5               0.2         0.282843         3.862642   \n",
       "4                1.4               0.2         0.360555         3.956008   \n",
       "\n",
       "   distance_from_3  closest color  \n",
       "0         4.870318        1     r  \n",
       "1         4.870318        1     r  \n",
       "2         4.964877        1     r  \n",
       "3         4.775982        1     r  \n",
       "4         4.870318        1     r  "
      ]
     },
     "execution_count": 985,
     "metadata": {},
     "output_type": "execute_result"
    }
   ],
   "source": [
    "def assignment(df, centroids, mode):\n",
    "    for i in centroids.keys():\n",
    "        if mode == 'euclidean': \n",
    "\n",
    "            #Using Euclidean distance as the distance metric\n",
    "            df['distance_from_{}'.format(i)] = (\n",
    "                np.sqrt(\n",
    "                    (df['petal length (cm)'] - centroids[i][0]) ** 2\n",
    "                        + (df['petal width (cm)'] - centroids[i][1]) ** 2\n",
    "                        ))\n",
    "        elif mode == 'cosine':\n",
    "            df['distance_from_{}'.format(i)] = (np.dot(df['petal length (cm)'], centroids[i][0])/ np.sqrt(np.dot(df['petal length (cm)'], df['petal length (cm)']) * np.dot(centroids[i][0], centroids[i][0])) + np.dot(df['petal width (cm)'], centroids[i][1])/ np.sqrt(np.dot(df['petal width (cm)'], df['petal width (cm)']) * np.dot(centroids[i][1], centroids[i][1])))\n",
    "        elif mode == 'jaccard':\n",
    "            im1 = 0; im2 = 0 \n",
    "            for j in range(1, len(df['petal length (cm)'])): \n",
    "                im1 += np.minimum(df['petal length (cm)'], centroids[i][0]) \n",
    "                im2 += np.maximum(df['petal width (cm)'], centroids[i][1]) \n",
    "            sumOfSquares = im1/im2 \n",
    "            df['distance_from_{}'.format(i)] = 1 - sumOfSquares \n",
    "    centroid_distance_cols = ['distance_from_{}'.format(i) for i in centroids.keys()]\n",
    "    df['closest'] = df.loc[:, centroid_distance_cols].idxmin(axis=1)\n",
    "    df['closest'] = df['closest'].map(lambda x: int(x.lstrip('distance_from_')))\n",
    "    df['color'] = df['closest'].map(lambda x: colmap[x])\n",
    "    return df\n",
    "\n",
    "df = assignment(df, centroids, 'euclidean')\n",
    "df.head()"
   ]
  },
  {
   "cell_type": "code",
   "execution_count": 986,
   "metadata": {},
   "outputs": [
    {
     "name": "stdout",
     "output_type": "stream",
     "text": [
      "[25 72 53]\n"
     ]
    }
   ],
   "source": [
    "index, counts = np.unique(df['color'].values,return_counts=True)\n",
    "\n",
    "    \n",
    "print(counts)\n",
    "\n"
   ]
  },
  {
   "cell_type": "code",
   "execution_count": 987,
   "metadata": {},
   "outputs": [],
   "source": [
    "c = df[df['color']=='r']['petal length (cm)']"
   ]
  },
  {
   "cell_type": "code",
   "execution_count": 988,
   "metadata": {},
   "outputs": [
    {
     "data": {
      "image/png": "[encoded data removed]",
      "text/plain": [
       "<Figure size 360x360 with 1 Axes>"
      ]
     },
     "metadata": {
      "needs_background": "light"
     },
     "output_type": "display_data"
    }
   ],
   "source": [
    "fig = plt.figure(figsize=(5,5))\n",
    "plt.scatter(df['petal length (cm)'], df['petal width (cm)'], color = df['color'], alpha=0.5, edgecolor='k')\n",
    "for i in centroids.keys():\n",
    "    plt.scatter(*centroids[i], color=colmap[i])\n",
    "\n",
    "plt.show()"
   ]
  },
  {
   "cell_type": "markdown",
   "metadata": {},
   "source": [
    "### Update Stage"
   ]
  },
  {
   "cell_type": "code",
   "execution_count": 989,
   "metadata": {},
   "outputs": [
    {
     "name": "stdout",
     "output_type": "stream",
     "text": [
      "{1: [1.560377358490566, 0.29056603773584894], 2: [4.601388888888889, 1.5444444444444443], 3: [5.9879999999999995, 2.1319999999999997]}\n"
     ]
    },
    {
     "data": {
      "image/png": "[encoded data removed]",
      "text/plain": [
       "<Figure size 360x360 with 1 Axes>"
      ]
     },
     "metadata": {
      "needs_background": "light"
     },
     "output_type": "display_data"
    }
   ],
   "source": [
    "import copy\n",
    "\n",
    "old_centroids = copy.deepcopy(centroids)\n",
    "\n",
    "def update(k):\n",
    "    for i in centroids.keys():\n",
    "        centroids[i][0] = np.mean(df[df['closest'] == i]['petal length (cm)'])\n",
    "        centroids[i][1] = np.mean(df[df['closest'] == i]['petal width (cm)'])\n",
    "    return k\n",
    "\n",
    "centroids = update(centroids)\n",
    "print(centroids)\n",
    "fig = plt.figure(figsize=(5,5))\n",
    "ax = plt.axes()\n",
    "plt.scatter(df['petal length (cm)'], df['petal width (cm)'], color=df['color'], alpha=0.5, edgecolor='k')\n",
    "for i in centroids.keys():\n",
    "    plt.scatter(*centroids[i], color=colmap[i])\n",
    "plt.show()"
   ]
  },
  {
   "cell_type": "markdown",
   "metadata": {},
   "source": [
    "### Repeat Assignment stage"
   ]
  },
  {
   "cell_type": "code",
   "execution_count": 990,
   "metadata": {},
   "outputs": [
    {
     "data": {
      "image/png": "[encoded data removed]",
      "text/plain": [
       "<Figure size 360x360 with 1 Axes>"
      ]
     },
     "metadata": {
      "needs_background": "light"
     },
     "output_type": "display_data"
    }
   ],
   "source": [
    "df = assignment(df, centroids,'euclidean')\n",
    "\n",
    "## Plot results\n",
    "fig = plt.figure(figsize=(5,5))\n",
    "plt.scatter(df['petal length (cm)'], df['petal width (cm)'], color=df['color'], alpha=0.5, edgecolor='k')\n",
    "for i in centroids.keys():\n",
    "    plt.scatter(*centroids[i], color=colmap[i])\n",
    "plt.show()"
   ]
  },
  {
   "cell_type": "markdown",
   "metadata": {},
   "source": [
    "### Continue until all assigned categories don't change any more"
   ]
  },
  {
   "cell_type": "code",
   "execution_count": 991,
   "metadata": {},
   "outputs": [
    {
     "name": "stdout",
     "output_type": "stream",
     "text": [
      "2  :iteration\n",
      "{1: [1.4921568627450983, 0.2627450980392156], 2: [4.445312500000001, 1.4468750000000001], 3: [5.802857142857142, 2.111428571428571]}\n",
      "3  :iteration\n",
      "{1: [1.4620000000000002, 0.2459999999999999], 2: [4.377049180327869, 1.4081967213114752], 3: [5.7333333333333325, 2.0948717948717945]}\n",
      "4  :iteration\n",
      "{1: [1.4620000000000002, 0.2459999999999999], 2: [4.343103448275862, 1.382758620689655], 3: [5.683333333333333, 2.0809523809523807]}\n",
      "5  :iteration\n",
      "{1: [1.4620000000000002, 0.2459999999999999], 2: [4.319642857142857, 1.3678571428571427], 3: [5.6522727272727264, 2.068181818181818]}\n",
      "6  :iteration\n",
      "{1: [1.4620000000000002, 0.2459999999999999], 2: [4.307272727272728, 1.3618181818181814], 3: [5.637777777777776, 2.0599999999999996]}\n",
      "7  :iteration\n",
      "{1: [1.4620000000000002, 0.2459999999999999], 2: [4.292592592592593, 1.359259259259259], 3: [5.626086956521738, 2.0478260869565217]}\n"
     ]
    }
   ],
   "source": [
    "i = 2\n",
    "while True:\n",
    "    print(i ,\" :iteration\")\n",
    "    i = i+1\n",
    "    closest_centroids = df['closest'].copy(deep=True)\n",
    "    centroids = update(centroids)\n",
    "    print(centroids)\n",
    "    df = assignment(df, centroids, 'euclidean')\n",
    "    if closest_centroids.equals(df['closest']):\n",
    "        break"
   ]
  },
  {
   "cell_type": "markdown",
   "metadata": {},
   "source": [
    "### Plot Final results"
   ]
  },
  {
   "cell_type": "code",
   "execution_count": 992,
   "metadata": {},
   "outputs": [
    {
     "data": {
      "image/png": "[encoded data removed]",
      "text/plain": [
       "<Figure size 360x360 with 1 Axes>"
      ]
     },
     "metadata": {
      "needs_background": "light"
     },
     "output_type": "display_data"
    }
   ],
   "source": [
    "fig = plt.figure(figsize=(5,5))\n",
    "plt.scatter(df['petal length (cm)'], df['petal width (cm)'], color=df['color'], alpha=0.5, edgecolor='k')\n",
    "for i in centroids.keys():\n",
    "    plt.scatter(*centroids[i], color=colmap[i])\n",
    "plt.show()"
   ]
  },
  {
   "cell_type": "markdown",
   "metadata": {},
   "source": [
    "### Final Centroids coordinates of two clusters"
   ]
  },
  {
   "cell_type": "code",
   "execution_count": 993,
   "metadata": {},
   "outputs": [
    {
     "data": {
      "text/plain": [
       "{1: [1.4620000000000002, 0.2459999999999999],\n",
       " 2: [4.292592592592593, 1.359259259259259],\n",
       " 3: [5.626086956521738, 2.0478260869565217]}"
      ]
     },
     "execution_count": 993,
     "metadata": {},
     "output_type": "execute_result"
    }
   ],
   "source": [
    "centroids"
   ]
  },
  {
   "cell_type": "code",
   "execution_count": 1043,
   "metadata": {},
   "outputs": [
    {
     "data": {
      "text/plain": [
       "0.006666666666666667"
      ]
     },
     "execution_count": 1043,
     "metadata": {},
     "output_type": "execute_result"
    }
   ],
   "source": [
    "import sklearn.metrics as metrics\n",
    "\n",
    "score = metrics.accuracy_score(iris.target,df['closest'])\n",
    "score"
   ]
  },
  {
   "cell_type": "code",
   "execution_count": 968,
   "metadata": {},
   "outputs": [],
   "source": [
    " def compute_sse(centroids):\n",
    "    distance = 0\n",
    "    s = 0\n",
    "    distance = np.zeros(df['petal length (cm)'].shape[0])\n",
    "    d = df\n",
    "    distance = np.zeros(counts[0])\n",
    "    #for i in centroids.keys():\n",
    "    \n",
    "    for i in range(df['petal length (cm)'].shape[0]):\n",
    "        if(df['color'].values[i] == 'r'):\n",
    "            s = s+1\n",
    "            distance = ((c - centroids[1][0]) ** 2 + (c - centroids[1][1]) ** 2)\n",
    "    k = distance.sum()\n",
    "    return k"
   ]
  },
  {
   "cell_type": "code",
   "execution_count": 969,
   "metadata": {},
   "outputs": [],
   "source": [
    "km = compute_sse(centroids)\n"
   ]
  },
  {
   "cell_type": "code",
   "execution_count": 970,
   "metadata": {},
   "outputs": [
    {
     "data": {
      "text/plain": [
       "76.8884"
      ]
     },
     "execution_count": 970,
     "metadata": {},
     "output_type": "execute_result"
    }
   ],
   "source": [
    "km"
   ]
  },
  {
   "cell_type": "code",
   "execution_count": 943,
   "metadata": {},
   "outputs": [],
   "source": [
    "centroids1 = {1: [1.7, 0.4]}\n",
    "centroids2 = {1: [1.7, 0.4], 2: [5.1, 1.6]}\n",
    "centroids3 = {1: [1.7, 0.4], 2: [5.1, 1.6], 3: [6.0, 1.8]}\n",
    "centroids4 = {1: [1.7, 0.4], 2: [5.1, 1.6], 3: [6.0, 1.8], 4: [1.5, 0.3]}\n",
    "centroids5 = {1: [1.7, 0.4], 2: [5.1, 1.6], 3: [6.0, 1.8], 4: [1.5, 0.3], 5: [4.7,1.4]}\n",
    "centroids6 = {1: [1.7, 0.4], 2: [5.1, 1.6], 3: [6.0, 1.8], 4: [1.5, 0.3], 5: [4.7,1.4], 6: [6.0,2.5]}\n",
    "centroids7 = {1: [1.7, 0.4], 2: [5.1, 1.6], 3: [6.0, 1.8], 4: [1.5, 0.3], 5: [4.7,1.4], 6: [6.0,2.5], 7: [1.5, 0.2]}\n",
    "centroids8 = {1: [1.7, 0.4], 2: [5.1, 1.6], 3: [6.0, 1.8], 4: [1.5, 0.3], 5: [4.7,1.4], 6: [6.0,2.5], 7: [1.5, 0.2], 8:[3.6,1.3]}\n",
    "centroids9 = {1: [1.7, 0.4], 2: [5.1, 1.6], 3: [6.0, 1.8], 4: [1.5, 0.3], 5: [4.7,1.4], 6: [6.0,2.5], 7: [1.5, 0.2], 8:[3.6,1.3], 9: [4.9, 1.8]}\n",
    "centroids10 = {1: [1.7, 0.4], 2: [5.1, 1.6], 3: [6.0, 1.8], 4: [1.5, 0.3], 5: [4.7,1.4], 6: [6.0,2.5], 7: [1.5, 0.2], 8:[3.6,1.3], 9: [4.9, 1.8], 10: [5.0, 1,5]}\n"
   ]
  },
  {
   "cell_type": "markdown",
   "metadata": {},
   "source": [
    "### K-means clustering with Euclidean"
   ]
  },
  {
   "cell_type": "code",
   "execution_count": 1036,
   "metadata": {},
   "outputs": [],
   "source": [
    "mode = \"euclidean\"\n",
    "sse_euclidean = []\n",
    "\n",
    "k_rng = range(1,100)\n",
    "for k in k_rng:\n",
    "    if(k == 1):\n",
    "        centroids = copy.deepcopy(centroids1)\n",
    "    elif(k == 2):\n",
    "        centroids = copy.deepcopy(centroids2)\n",
    "    elif(k == 3):\n",
    "        centroids = copy.deepcopy(centroids3)\n",
    "    elif(k == 4):\n",
    "        centroids = copy.deepcopy(centroids4)\n",
    "    elif(k == 5):\n",
    "        centroids = copy.deepcopy(centroids5)\n",
    "    elif(k == 6):\n",
    "        centroids = copy.deepcopy(centroids6)\n",
    "    elif(k == 7):\n",
    "        centroids = copy.deepcopy(centroids7)\n",
    "    elif(k == 8):\n",
    "        centroids = copy.deepcopy(centroids8)\n",
    "    elif(k == 9):\n",
    "        centroids = copy.deepcopy(centroids9)\n",
    "    elif(k == 10):\n",
    "        centroids = copy.deepcopy(centroids10)\n",
    "    \n",
    "    colmap = {1:'r', 2:'g', 3:'b', 4:'r', 5:'g', 6:'b', 7:'r', 8:'g', 9:'y', 10: 'b'}\n",
    "    df = assignment(df, centroids, mode)\n",
    "    c = df[df['color']=='r']['petal length (cm)']\n",
    "    centroids = update(centroids)\n",
    "    df = assignment(df, centroids, mode)\n",
    "    while True:\n",
    "        closest_centroids = df['closest'].copy(deep=True)\n",
    "        centroids = update(centroids)\n",
    "        df = assignment(df, centroids, mode)\n",
    "        if closest_centroids.equals(df['closest']):\n",
    "            break\n",
    "    sse_error = compute_sse(centroids)\n",
    "    sse_euclidean.append(sse_error)"
   ]
  },
  {
   "cell_type": "code",
   "execution_count": 1037,
   "metadata": {},
   "outputs": [
    {
     "data": {
      "text/plain": [
       "<function matplotlib.pyplot.plot(*args, scalex=True, scaley=True, data=None, **kwargs)>"
      ]
     },
     "execution_count": 1037,
     "metadata": {},
     "output_type": "execute_result"
    },
    {
     "data": {
      "image/png": "[encoded data removed]",
      "text/plain": [
       "<Figure size 432x288 with 1 Axes>"
      ]
     },
     "metadata": {
      "needs_background": "light"
     },
     "output_type": "display_data"
    }
   ],
   "source": [
    "plt.xlabel('K')\n",
    "plt.ylabel('Sum of squared error')\n",
    "plt.plot(k_rng,sse_euclidean)\n",
    "plt.plot"
   ]
  },
  {
   "cell_type": "markdown",
   "metadata": {},
   "source": [
    "### K-means clustering with Cosine"
   ]
  },
  {
   "cell_type": "code",
   "execution_count": 1029,
   "metadata": {},
   "outputs": [],
   "source": [
    "mode = \"cosine\"\n",
    "sse_cosine = []\n",
    "\n",
    "k_rng = range(1,100)\n",
    "for k in k_rng:\n",
    "    if(k == 1):\n",
    "        centroids = copy.deepcopy(centroids1)\n",
    "    elif(k == 2):\n",
    "        centroids = copy.deepcopy(centroids2)\n",
    "    elif(k == 3):\n",
    "        centroids = copy.deepcopy(centroids3)\n",
    "    elif(k == 4):\n",
    "        centroids = copy.deepcopy(centroids4)\n",
    "    elif(k == 5):\n",
    "        centroids = copy.deepcopy(centroids5)\n",
    "    elif(k == 6):\n",
    "        centroids = copy.deepcopy(centroids6)\n",
    "    elif(k == 7):\n",
    "        centroids = copy.deepcopy(centroids7)\n",
    "    elif(k == 8):\n",
    "        centroids = copy.deepcopy(centroids8)\n",
    "    elif(k == 9):\n",
    "        centroids = copy.deepcopy(centroids9)\n",
    "    elif(k == 10):\n",
    "        centroids = copy.deepcopy(centroids10)\n",
    "    colmap = {1:'r', 2:'g', 3:'b', 4:'r', 5:'g', 6:'b', 7:'r', 8:'g', 9:'y', 10: 'b'}\n",
    "    df = assignment(df, centroids, mode)\n",
    "    c = df[df['color']=='r']['petal length (cm)']\n",
    "    centroids = update(centroids)\n",
    "    df = assignment(df, centroids, mode)\n",
    "    while True:\n",
    "        closest_centroids = df['closest'].copy(deep=True)\n",
    "        centroids = update(centroids)\n",
    "        df = assignment(df, centroids, mode)\n",
    "        if closest_centroids.equals(df['closest']):\n",
    "            break\n",
    "    sse_error = compute_sse(centroids)\n",
    "    sse_cosine.append(sse_error)"
   ]
  },
  {
   "cell_type": "code",
   "execution_count": 1042,
   "metadata": {},
   "outputs": [
    {
     "data": {
      "text/plain": [
       "[<matplotlib.lines.Line2D at 0x1e5514de370>]"
      ]
     },
     "execution_count": 1042,
     "metadata": {},
     "output_type": "execute_result"
    },
    {
     "data": {
      "image/png": "[encoded data removed]",
      "text/plain": [
       "<Figure size 432x288 with 1 Axes>"
      ]
     },
     "metadata": {
      "needs_background": "light"
     },
     "output_type": "display_data"
    }
   ],
   "source": [
    "plt.xlabel('K')\n",
    "plt.ylabel('Sum of squared error')\n",
    "plt.plot(k_rng,sse_cosine)\n",
    "plt.plot"
   ]
  },
  {
   "cell_type": "markdown",
   "metadata": {},
   "source": [
    "### K-means clustering with Jaccard"
   ]
  },
  {
   "cell_type": "code",
   "execution_count": 1040,
   "metadata": {},
   "outputs": [],
   "source": [
    "mode = \"jaccard\"\n",
    "sse_jacard = []\n",
    "\n",
    "k_rng = range(1,100)\n",
    "for k in k_rng:\n",
    "    if(k == 1):\n",
    "        centroids = copy.deepcopy(centroids1)\n",
    "    elif(k == 2):\n",
    "        centroids = copy.deepcopy(centroids2)\n",
    "    elif(k == 3):\n",
    "        centroids = copy.deepcopy(centroids3)\n",
    "    elif(k == 4):\n",
    "        centroids = copy.deepcopy(centroids4)\n",
    "    elif(k == 5):\n",
    "        centroids = copy.deepcopy(centroids5)\n",
    "    elif(k == 6):\n",
    "        centroids = copy.deepcopy(centroids6)\n",
    "    elif(k == 7):\n",
    "        centroids = copy.deepcopy(centroids7)\n",
    "    elif(k == 8):\n",
    "        centroids = copy.deepcopy(centroids8)\n",
    "    elif(k == 9):\n",
    "        centroids = copy.deepcopy(centroids9)\n",
    "    elif(k == 10):\n",
    "        centroids = copy.deepcopy(centroids10)\n",
    "    colmap = {1:'r', 2:'g', 3:'b', 4:'r', 5:'g', 6:'b', 7:'r', 8:'g', 9:'y', 10: 'b'}\n",
    "    df = assignment(df, centroids, mode)\n",
    "    c = df[df['color']=='r']['petal length (cm)']\n",
    "    centroids = update(centroids)\n",
    "    df = assignment(df, centroids, mode)\n",
    "    while True:\n",
    "        closest_centroids = df['closest'].copy(deep=True)\n",
    "        centroids = update(centroids)\n",
    "        df = assignment(df, centroids, mode)\n",
    "        if closest_centroids.equals(df['closest']):\n",
    "            break\n",
    "    sse_error = compute_sse(centroids)\n",
    "    sse_jacard.append(sse_error)"
   ]
  },
  {
   "cell_type": "code",
   "execution_count": 1041,
   "metadata": {},
   "outputs": [
    {
     "data": {
      "text/plain": [
       "<function matplotlib.pyplot.plot(*args, scalex=True, scaley=True, data=None, **kwargs)>"
      ]
     },
     "execution_count": 1041,
     "metadata": {},
     "output_type": "execute_result"
    },
    {
     "data": {
      "image/png": "[encoded data removed]",
      "text/plain": [
       "<Figure size 432x288 with 1 Axes>"
      ]
     },
     "metadata": {
      "needs_background": "light"
     },
     "output_type": "display_data"
    }
   ],
   "source": [
    "plt.xlabel('K')\n",
    "plt.ylabel('Sum of squared error')\n",
    "plt.plot(k_rng,sse_jacard)\n",
    "plt.plot"
   ]
  },
  {
   "cell_type": "markdown",
   "metadata": {},
   "source": [
    "### Comparing the SSEs of Euclidean-Kmeans,Cosine-K-means and Jarcard-K-means"
   ]
  },
  {
   "cell_type": "code",
   "execution_count": 1035,
   "metadata": {},
   "outputs": [
    {
     "data": {
      "text/plain": [
       "<function matplotlib.pyplot.plot(*args, scalex=True, scaley=True, data=None, **kwargs)>"
      ]
     },
     "execution_count": 1035,
     "metadata": {},
     "output_type": "execute_result"
    },
    {
     "data": {
      "image/png": "[encoded data removed]",
      "text/plain": [
       "<Figure size 432x288 with 1 Axes>"
      ]
     },
     "metadata": {
      "needs_background": "light"
     },
     "output_type": "display_data"
    }
   ],
   "source": [
    "plt.xlabel('K')\n",
    "plt.ylabel('Sum of squared error')\n",
    "plt.plot(k_rng,sse_jacard)\n",
    "plt.plot(k_rng,sse_euclidean)\n",
    "plt.plot(k_rng,sse_cosine)\n",
    "plt.plot"
   ]
  }
 ],
 "metadata": {
  "kernelspec": {
   "display_name": "Python 3",
   "language": "python",
   "name": "python3"
  },
  "language_info": {
   "codemirror_mode": {
    "name": "ipython",
    "version": 3
   },
   "file_extension": ".py",
   "mimetype": "text/x-python",
   "name": "python",
   "nbconvert_exporter": "python",
   "pygments_lexer": "ipython3",
   "version": "3.8.3"
  }
 },
 "nbformat": 4,
 "nbformat_minor": 4
}

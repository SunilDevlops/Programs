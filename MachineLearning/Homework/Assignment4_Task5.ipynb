{
 "cells": [
  {
   "cell_type": "markdown",
   "metadata": {},
   "source": [
    "# Assignment 4"
   ]
  },
  {
   "cell_type": "markdown",
   "metadata": {},
   "source": [
    "## Task 5"
   ]
  },
  {
   "cell_type": "code",
   "execution_count": 25,
   "metadata": {},
   "outputs": [],
   "source": [
    "from sklearn.svm import LinearSVC\n",
    "from sklearn import datasets\n",
    "from sklearn.preprocessing import StandardScaler\n",
    "import numpy as np\n",
    "from matplotlib import pyplot as plt\n",
    "import pandas as pd;\n",
    "from sklearn import svm\n",
    "import matplotlib.pyplot as plt\n",
    "import seaborn as sns; sns.set(font_scale=1.2)"
   ]
  },
  {
   "cell_type": "code",
   "execution_count": 26,
   "metadata": {},
   "outputs": [],
   "source": [
    "%matplotlib inline"
   ]
  },
  {
   "cell_type": "code",
   "execution_count": 27,
   "metadata": {},
   "outputs": [],
   "source": [
    "data = pd.read_csv('Data.csv')"
   ]
  },
  {
   "cell_type": "code",
   "execution_count": 28,
   "metadata": {},
   "outputs": [
    {
     "data": {
      "text/html": [
       "<div>\n",
       "<style scoped>\n",
       "    .dataframe tbody tr th:only-of-type {\n",
       "        vertical-align: middle;\n",
       "    }\n",
       "\n",
       "    .dataframe tbody tr th {\n",
       "        vertical-align: top;\n",
       "    }\n",
       "\n",
       "    .dataframe thead th {\n",
       "        text-align: right;\n",
       "    }\n",
       "</style>\n",
       "<table border=\"1\" class=\"dataframe\">\n",
       "  <thead>\n",
       "    <tr style=\"text-align: right;\">\n",
       "      <th></th>\n",
       "      <th>X1</th>\n",
       "      <th>X2</th>\n",
       "      <th>Y</th>\n",
       "    </tr>\n",
       "  </thead>\n",
       "  <tbody>\n",
       "    <tr>\n",
       "      <th>0</th>\n",
       "      <td>1</td>\n",
       "      <td>1</td>\n",
       "      <td>A</td>\n",
       "    </tr>\n",
       "    <tr>\n",
       "      <th>1</th>\n",
       "      <td>2</td>\n",
       "      <td>2</td>\n",
       "      <td>A</td>\n",
       "    </tr>\n",
       "    <tr>\n",
       "      <th>2</th>\n",
       "      <td>2</td>\n",
       "      <td>0</td>\n",
       "      <td>A</td>\n",
       "    </tr>\n",
       "    <tr>\n",
       "      <th>3</th>\n",
       "      <td>0</td>\n",
       "      <td>0</td>\n",
       "      <td>B</td>\n",
       "    </tr>\n",
       "    <tr>\n",
       "      <th>4</th>\n",
       "      <td>1</td>\n",
       "      <td>0</td>\n",
       "      <td>B</td>\n",
       "    </tr>\n",
       "    <tr>\n",
       "      <th>5</th>\n",
       "      <td>0</td>\n",
       "      <td>1</td>\n",
       "      <td>B</td>\n",
       "    </tr>\n",
       "  </tbody>\n",
       "</table>\n",
       "</div>"
      ],
      "text/plain": [
       "   X1  X2  Y\n",
       "0   1   1  A\n",
       "1   2   2  A\n",
       "2   2   0  A\n",
       "3   0   0  B\n",
       "4   1   0  B\n",
       "5   0   1  B"
      ]
     },
     "execution_count": 28,
     "metadata": {},
     "output_type": "execute_result"
    }
   ],
   "source": [
    "data"
   ]
  },
  {
   "cell_type": "code",
   "execution_count": 29,
   "metadata": {},
   "outputs": [],
   "source": [
    "points = data[['X1','X2']].values\n",
    "result = data['Y'].values"
   ]
  },
  {
   "cell_type": "code",
   "execution_count": 30,
   "metadata": {},
   "outputs": [
    {
     "data": {
      "image/png": "[encoded data removed]",
      "text/plain": [
       "<Figure size 416.395x360 with 1 Axes>"
      ]
     },
     "metadata": {
      "needs_background": "light"
     },
     "output_type": "display_data"
    }
   ],
   "source": [
    "sns.lmplot('X1', 'X2',\n",
    "           data=data,\n",
    "           hue='Y',\n",
    "           palette='Set2',\n",
    "           fit_reg=False,\n",
    "           scatter_kws={\"s\": 50}); "
   ]
  },
  {
   "cell_type": "markdown",
   "metadata": {},
   "source": [
    "### Applying Linear SVM Function with C = 1"
   ]
  },
  {
   "cell_type": "code",
   "execution_count": 31,
   "metadata": {},
   "outputs": [
    {
     "data": {
      "text/plain": [
       "SVC(C=1, kernel='linear')"
      ]
     },
     "execution_count": 31,
     "metadata": {},
     "output_type": "execute_result"
    }
   ],
   "source": [
    "clf1 = svm.SVC(C =1, kernel = 'linear')\n",
    "clf1.fit(points, result)"
   ]
  },
  {
   "cell_type": "code",
   "execution_count": 32,
   "metadata": {},
   "outputs": [
    {
     "name": "stdout",
     "output_type": "stream",
     "text": [
      "Vector of weights (w) =  [-1.2 -0.4]\n",
      "b =  1.4\n",
      "Indices of support vectors =  [0 2 4 5]\n",
      "Support vectors =  [[1. 1.]\n",
      " [2. 0.]\n",
      " [1. 0.]\n",
      " [0. 1.]]\n",
      "Number of support vectors for each class =  [2 2]\n",
      "Coefficients of the support vector in the decision function =  [[1.  0.6 1.  0.6]]\n"
     ]
    }
   ],
   "source": [
    "print('Vector of weights (w) = ',clf1.coef_[0])\n",
    "print('b = ',clf1.intercept_[0])\n",
    "print('Indices of support vectors = ', clf1.support_)\n",
    "print('Support vectors = ', clf1.support_vectors_)\n",
    "print('Number of support vectors for each class = ', clf1.n_support_)\n",
    "print('Coefficients of the support vector in the decision function = ',\n",
    "       np.abs(clf1.dual_coef_)) "
   ]
  },
  {
   "cell_type": "code",
   "execution_count": 34,
   "metadata": {},
   "outputs": [
    {
     "data": {
      "text/plain": [
       "[<matplotlib.lines.Line2D at 0x14a9b8e08b0>]"
      ]
     },
     "execution_count": 34,
     "metadata": {},
     "output_type": "execute_result"
    },
    {
     "data": {
      "image/png": "[encoded data removed]",
      "text/plain": [
       "<Figure size 416.395x360 with 1 Axes>"
      ]
     },
     "metadata": {
      "needs_background": "light"
     },
     "output_type": "display_data"
    }
   ],
   "source": [
    "#---w is the vector of weights---\n",
    "w1 = clf1.coef_[0]\n",
    " \n",
    "#---find the slope of the hyperplane---\n",
    "slope1 = -w1[0] / w1[1]\n",
    " \n",
    "b1 = clf1.intercept_[0]\n",
    " \n",
    "#---find the coordinates for the hyperplane---\n",
    "xx1 = np.linspace(0, 3)\n",
    "yy1 = slope1 * xx1 - (b1 / w1[1])\n",
    " \n",
    "#---plot the margins---\n",
    "s1 = clf1.support_vectors_[0]    #---first support vector---\n",
    "yy_down1 = slope1 * xx1 + (s1[1] - slope1 * s1[0])\n",
    "\n",
    "s1 = clf1.support_vectors_[3]   #---last support vector---\n",
    "yy_up1  = slope1 * xx1 + (s1[1] - slope1 * s1[0])\n",
    " \n",
    "#---plot the points---\n",
    "sns.lmplot('X1', 'X2', data=data, hue='Y', palette='Set1',\n",
    "fit_reg=False, scatter_kws={\"s\": 70})\n",
    " \n",
    "#---plot the hyperplane---\n",
    "plt.plot(xx1, yy1, linewidth=1, color='green');\n",
    " \n",
    "#---plot the 2 margins---\n",
    "plt.plot(xx1, yy_down1, 'k--')\n",
    "\n",
    "plt.plot(xx1, yy_up1, 'k--') "
   ]
  },
  {
   "cell_type": "markdown",
   "metadata": {},
   "source": [
    "### Applying Linear SVM Function with C = 2"
   ]
  },
  {
   "cell_type": "code",
   "execution_count": 35,
   "metadata": {},
   "outputs": [
    {
     "data": {
      "text/plain": [
       "SVC(C=2, kernel='linear')"
      ]
     },
     "execution_count": 35,
     "metadata": {},
     "output_type": "execute_result"
    }
   ],
   "source": [
    "clf2 = svm.SVC(C =2, kernel = 'linear')\n",
    "clf2.fit(points, result)"
   ]
  },
  {
   "cell_type": "code",
   "execution_count": 36,
   "metadata": {},
   "outputs": [
    {
     "name": "stdout",
     "output_type": "stream",
     "text": [
      "Vector of weights (w) =  [-1.6 -1.2]\n",
      "b =  2.2\n",
      "Indices of support vectors =  [0 2 4 5]\n",
      "Support vectors =  [[1. 1.]\n",
      " [2. 0.]\n",
      " [1. 0.]\n",
      " [0. 1.]]\n",
      "Number of support vectors for each class =  [2 2]\n",
      "Coefficients of the support vector in the decision function =  [[2.  0.8 2.  0.8]]\n"
     ]
    }
   ],
   "source": [
    "print('Vector of weights (w) = ',clf2.coef_[0])\n",
    "print('b = ',clf2.intercept_[0])\n",
    "print('Indices of support vectors = ', clf2.support_)\n",
    "print('Support vectors = ', clf2.support_vectors_)\n",
    "print('Number of support vectors for each class = ', clf2.n_support_)\n",
    "print('Coefficients of the support vector in the decision function = ',\n",
    "       np.abs(clf2.dual_coef_)) "
   ]
  },
  {
   "cell_type": "code",
   "execution_count": 37,
   "metadata": {},
   "outputs": [
    {
     "data": {
      "text/plain": [
       "[<matplotlib.lines.Line2D at 0x14a9b966970>]"
      ]
     },
     "execution_count": 37,
     "metadata": {},
     "output_type": "execute_result"
    },
    {
     "data": {
      "image/png": "[encoded data removed]",
      "text/plain": [
       "<Figure size 416.395x360 with 1 Axes>"
      ]
     },
     "metadata": {
      "needs_background": "light"
     },
     "output_type": "display_data"
    }
   ],
   "source": [
    "#---w is the vector of weights---\n",
    "w2 = clf2.coef_[0]\n",
    " \n",
    "#---find the slope of the hyperplane---\n",
    "slope2 = -w2[0] / w2[1]\n",
    " \n",
    "b2 = clf2.intercept_[0]\n",
    " \n",
    "#---find the coordinates for the hyperplane---\n",
    "xx2 = np.linspace(0, 3)\n",
    "yy2 = slope2 * xx2 - (b2 / w2[1])\n",
    " \n",
    "#---plot the margins---\n",
    "s2 = clf2.support_vectors_[0]    #---first support vector---\n",
    "yy_down2 = slope2 * xx2 + (s2[1] - slope2 * s2[0])\n",
    "\n",
    "s2 = clf2.support_vectors_[3]   #---last support vector---\n",
    "yy_up2   = slope2 * xx2 + (s2[1] - slope2 * s2[0])\n",
    " \n",
    "#---plot the points---\n",
    "sns.lmplot('X1', 'X2', data=data, hue='Y', palette='Set1',\n",
    "fit_reg=False, scatter_kws={\"s\": 70})\n",
    " \n",
    "#---plot the hyperplane---\n",
    "plt.plot(xx2, yy2, linewidth=1, color='green');\n",
    " \n",
    "#---plot the 2 margins---\n",
    "plt.plot(xx2, yy_down2, 'k--')\n",
    "\n",
    "plt.plot(xx2, yy_up2, 'k--') "
   ]
  },
  {
   "cell_type": "markdown",
   "metadata": {},
   "source": [
    "### Applying Linear SVM Function with C = 5"
   ]
  },
  {
   "cell_type": "code",
   "execution_count": 38,
   "metadata": {},
   "outputs": [
    {
     "data": {
      "text/plain": [
       "SVC(C=5, kernel='linear')"
      ]
     },
     "execution_count": 38,
     "metadata": {},
     "output_type": "execute_result"
    }
   ],
   "source": [
    "clf = svm.SVC(C =5, kernel = 'linear')\n",
    "clf.fit(points, result)"
   ]
  },
  {
   "cell_type": "code",
   "execution_count": 39,
   "metadata": {},
   "outputs": [
    {
     "name": "stdout",
     "output_type": "stream",
     "text": [
      "Vector of weights (w) =  [-2. -2.]\n",
      "b =  3.0\n",
      "Indices of support vectors =  [0 2 4]\n",
      "Support vectors =  [[1. 1.]\n",
      " [2. 0.]\n",
      " [1. 0.]]\n",
      "Number of support vectors for each class =  [2 1]\n",
      "Coefficients of the support vector in the decision function =  [[2. 2. 4.]]\n"
     ]
    }
   ],
   "source": [
    "print('Vector of weights (w) = ',clf.coef_[0])\n",
    "print('b = ',clf.intercept_[0])\n",
    "print('Indices of support vectors = ', clf.support_)\n",
    "print('Support vectors = ', clf.support_vectors_)\n",
    "print('Number of support vectors for each class = ', clf.n_support_)\n",
    "print('Coefficients of the support vector in the decision function = ',\n",
    "       np.abs(clf.dual_coef_)) "
   ]
  },
  {
   "cell_type": "code",
   "execution_count": 41,
   "metadata": {},
   "outputs": [
    {
     "data": {
      "text/plain": [
       "[<matplotlib.lines.Line2D at 0x14a9b8d8af0>]"
      ]
     },
     "execution_count": 41,
     "metadata": {},
     "output_type": "execute_result"
    },
    {
     "data": {
      "image/png": "[encoded data removed]",
      "text/plain": [
       "<Figure size 416.395x360 with 1 Axes>"
      ]
     },
     "metadata": {
      "needs_background": "light"
     },
     "output_type": "display_data"
    }
   ],
   "source": [
    "#---w is the vector of weights---\n",
    "w = clf.coef_[0]\n",
    " \n",
    "#---find the slope of the hyperplane---\n",
    "slope = -w[0] / w[1]\n",
    " \n",
    "b = clf.intercept_[0]\n",
    " \n",
    "#---find the coordinates for the hyperplane---\n",
    "xx = np.linspace(0, 3)\n",
    "yy = slope * xx - (b / w[1])\n",
    " \n",
    "#---plot the margins---\n",
    "s = clf.support_vectors_[0]    #---first support vector---\n",
    "yy_down = slope * xx + (s[1] - slope * s[0])\n",
    "\n",
    "s = clf.support_vectors_[2]   #---last support vector---\n",
    "yy_up   = slope * xx + (s[1] - slope * s[0])\n",
    " \n",
    "#---plot the points---\n",
    "sns.lmplot('X1', 'X2', data=data, hue='Y', palette='Set1',\n",
    "fit_reg=False, scatter_kws={\"s\": 70})\n",
    " \n",
    "#---plot the hyperplane---\n",
    "plt.plot(xx, yy, linewidth=1, color='green');\n",
    " \n",
    "#---plot the 2 margins---\n",
    "plt.plot(xx, yy_down, 'k--')\n",
    "\n",
    "plt.plot(xx, yy_up, 'k--') "
   ]
  }
 ],
 "metadata": {
  "kernelspec": {
   "display_name": "Python 3",
   "language": "python",
   "name": "python3"
  },
  "language_info": {
   "codemirror_mode": {
    "name": "ipython",
    "version": 3
   },
   "file_extension": ".py",
   "mimetype": "text/x-python",
   "name": "python",
   "nbconvert_exporter": "python",
   "pygments_lexer": "ipython3",
   "version": "3.8.3"
  }
 },
 "nbformat": 4,
 "nbformat_minor": 4
}
